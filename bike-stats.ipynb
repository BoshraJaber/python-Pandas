{
 "cells": [
  {
   "cell_type": "markdown",
   "metadata": {},
   "source": [
    "# Data Analysis with Pandas\n",
    "## Cycle Share Data set\n",
    "* Bicycle Trip Data from Seattle’s Cycle Share System"
   ]
  },
  {
   "cell_type": "code",
   "execution_count": 3,
   "metadata": {},
   "outputs": [
    {
     "name": "stdout",
     "output_type": "stream",
     "text": [
      "<class 'pandas.core.frame.DataFrame'>\n",
      "RangeIndex: 58 entries, 0 to 57\n",
      "Data columns (total 9 columns):\n",
      " #   Column             Non-Null Count  Dtype  \n",
      "---  ------             --------------  -----  \n",
      " 0   station_id         58 non-null     object \n",
      " 1   name               58 non-null     object \n",
      " 2   lat                58 non-null     float64\n",
      " 3   long               58 non-null     float64\n",
      " 4   install_date       58 non-null     object \n",
      " 5   install_dockcount  58 non-null     int64  \n",
      " 6   modification_date  17 non-null     object \n",
      " 7   current_dockcount  58 non-null     int64  \n",
      " 8   decommission_date  4 non-null      object \n",
      "dtypes: float64(2), int64(2), object(5)\n",
      "memory usage: 4.2+ KB\n"
     ]
    }
   ],
   "source": [
    "import pandas as pd\n",
    "\n",
    "stationData = pd.read_csv('./data/station.csv')\n",
    "stationData.info()"
   ]
  },
  {
   "cell_type": "code",
   "execution_count": 5,
   "metadata": {},
   "outputs": [
    {
     "name": "stdout",
     "output_type": "stream",
     "text": [
      "<class 'pandas.core.frame.DataFrame'>\n",
      "RangeIndex: 689 entries, 0 to 688\n",
      "Data columns (total 21 columns):\n",
      " #   Column                      Non-Null Count  Dtype  \n",
      "---  ------                      --------------  -----  \n",
      " 0   Date                        689 non-null    object \n",
      " 1   Max_Temperature_F           689 non-null    int64  \n",
      " 2   Mean_Temperature_F          688 non-null    float64\n",
      " 3   Min_TemperatureF            689 non-null    int64  \n",
      " 4   Max_Dew_Point_F             689 non-null    int64  \n",
      " 5   MeanDew_Point_F             689 non-null    int64  \n",
      " 6   Min_Dewpoint_F              689 non-null    int64  \n",
      " 7   Max_Humidity                689 non-null    int64  \n",
      " 8   Mean_Humidity               689 non-null    int64  \n",
      " 9   Min_Humidity                689 non-null    int64  \n",
      " 10  Max_Sea_Level_Pressure_In   689 non-null    float64\n",
      " 11  Mean_Sea_Level_Pressure_In  689 non-null    float64\n",
      " 12  Min_Sea_Level_Pressure_In   689 non-null    float64\n",
      " 13  Max_Visibility_Miles        689 non-null    int64  \n",
      " 14  Mean_Visibility_Miles       689 non-null    int64  \n",
      " 15  Min_Visibility_Miles        689 non-null    int64  \n",
      " 16  Max_Wind_Speed_MPH          689 non-null    int64  \n",
      " 17  Mean_Wind_Speed_MPH         689 non-null    int64  \n",
      " 18  Max_Gust_Speed_MPH          504 non-null    object \n",
      " 19  Precipitation_In            689 non-null    float64\n",
      " 20  Events                      328 non-null    object \n",
      "dtypes: float64(5), int64(13), object(3)\n",
      "memory usage: 113.2+ KB\n"
     ]
    }
   ],
   "source": [
    "weatherData = pd.read_csv('./data/weather.csv')\n",
    "weatherData.info()"
   ]
  },
  {
   "cell_type": "code",
   "execution_count": 7,
   "metadata": {},
   "outputs": [
    {
     "name": "stderr",
     "output_type": "stream",
     "text": [
      "/home/boshra/pythonNumpy/lab13/lab13/.venv/lib/python3.9/site-packages/IPython/core/interactiveshell.py:3444: FutureWarning: The error_bad_lines argument has been deprecated and will be removed in a future version.\n",
      "\n",
      "\n",
      "  exec(code_obj, self.user_global_ns, self.user_ns)\n",
      "b'Skipping line 50794: expected 12 fields, saw 20\\n'\n"
     ]
    },
    {
     "name": "stdout",
     "output_type": "stream",
     "text": [
      "<class 'pandas.core.frame.DataFrame'>\n",
      "RangeIndex: 286857 entries, 0 to 286856\n",
      "Data columns (total 12 columns):\n",
      " #   Column             Non-Null Count   Dtype  \n",
      "---  ------             --------------   -----  \n",
      " 0   trip_id            286857 non-null  int64  \n",
      " 1   starttime          286857 non-null  object \n",
      " 2   stoptime           286857 non-null  object \n",
      " 3   bikeid             286857 non-null  object \n",
      " 4   tripduration       286857 non-null  float64\n",
      " 5   from_station_name  286857 non-null  object \n",
      " 6   to_station_name    286857 non-null  object \n",
      " 7   from_station_id    286857 non-null  object \n",
      " 8   to_station_id      286857 non-null  object \n",
      " 9   usertype           286857 non-null  object \n",
      " 10  gender             181557 non-null  object \n",
      " 11  birthyear          181553 non-null  float64\n",
      "dtypes: float64(2), int64(1), object(9)\n",
      "memory usage: 26.3+ MB\n"
     ]
    }
   ],
   "source": [
    "# solving the error in reading the csv\n",
    "tripData = pd.read_csv('./data/trip.csv', error_bad_lines=False)\n",
    "tripData.info()"
   ]
  },
  {
   "cell_type": "code",
   "execution_count": null,
   "metadata": {},
   "outputs": [],
   "source": []
  }
 ],
 "metadata": {
  "interpreter": {
   "hash": "cb883a5648998bae1ab26f1d1f56d8c7702b8b55fe699c3e94107804bf244f31"
  },
  "kernelspec": {
   "display_name": "Python 3.9.5 64-bit ('.venv': poetry)",
   "name": "python3"
  },
  "language_info": {
   "codemirror_mode": {
    "name": "ipython",
    "version": 3
   },
   "file_extension": ".py",
   "mimetype": "text/x-python",
   "name": "python",
   "nbconvert_exporter": "python",
   "pygments_lexer": "ipython3",
   "version": "3.9.5"
  },
  "orig_nbformat": 4
 },
 "nbformat": 4,
 "nbformat_minor": 2
}
